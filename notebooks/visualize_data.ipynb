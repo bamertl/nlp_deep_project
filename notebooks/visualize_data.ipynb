{
 "cells": [
  {
   "cell_type": "code",
   "execution_count": 2,
   "metadata": {
    "collapsed": true,
    "ExecuteTime": {
     "end_time": "2023-06-15T16:31:54.600414988Z",
     "start_time": "2023-06-15T16:31:54.587542964Z"
    }
   },
   "outputs": [],
   "source": [
    "import os\n",
    "import sys\n",
    "module_path = os.path.abspath(os.path.join('..'))\n",
    "if module_path not in sys.path:\n",
    "    sys.path.append(module_path)\n",
    "from library.preprocess import preprocess_generator\n",
    "\n",
    "\n"
   ]
  },
  {
   "cell_type": "code",
   "execution_count": 6,
   "outputs": [
    {
     "name": "stdout",
     "output_type": "stream",
     "text": [
      "2800\n",
      "Found 1400 of examples in the dataset ../data/dataset1/train\n",
      "14000\n",
      "Found 7000 of examples in the dataset ../data/dataset2/train\n",
      "14000\n",
      "Found 7000 of examples in the dataset ../data/dataset3/train\n",
      "600\n",
      "Found 300 of examples in the dataset ../data/dataset1/validation\n",
      "3000\n",
      "Found 1500 of examples in the dataset ../data/dataset2/validation\n",
      "3000\n",
      "Found 1500 of examples in the dataset ../data/dataset3/validation\n",
      "160268\n"
     ]
    }
   ],
   "source": [
    "train = list(preprocess_generator(\"train\")())\n",
    "valid = list(preprocess_generator(\"validation\")())\n",
    "print(len(train))"
   ],
   "metadata": {
    "collapsed": false,
    "ExecuteTime": {
     "end_time": "2023-06-15T16:33:18.998555934Z",
     "start_time": "2023-06-15T16:33:17.475427045Z"
    }
   }
  },
  {
   "cell_type": "code",
   "execution_count": null,
   "outputs": [],
   "source": [],
   "metadata": {
    "collapsed": false
   }
  }
 ],
 "metadata": {
  "kernelspec": {
   "display_name": "Python 3",
   "language": "python",
   "name": "python3"
  },
  "language_info": {
   "codemirror_mode": {
    "name": "ipython",
    "version": 2
   },
   "file_extension": ".py",
   "mimetype": "text/x-python",
   "name": "python",
   "nbconvert_exporter": "python",
   "pygments_lexer": "ipython2",
   "version": "2.7.6"
  }
 },
 "nbformat": 4,
 "nbformat_minor": 0
}
